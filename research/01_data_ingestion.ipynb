{
 "cells": [
  {
   "cell_type": "code",
   "execution_count": 1,
   "metadata": {},
   "outputs": [],
   "source": [
    "import os"
   ]
  },
  {
   "cell_type": "code",
   "execution_count": 2,
   "metadata": {},
   "outputs": [
    {
     "data": {
      "text/plain": [
       "'c:\\\\Users\\\\asus\\\\OneDrive\\\\Desktop\\\\Machine Learning project with Mlflow\\\\Machine-Learning-project-with-Mlflow\\\\research'"
      ]
     },
     "execution_count": 2,
     "metadata": {},
     "output_type": "execute_result"
    }
   ],
   "source": [
    "%pwd"
   ]
  },
  {
   "cell_type": "code",
   "execution_count": 3,
   "metadata": {},
   "outputs": [],
   "source": [
    "os.chdir(\"../\")"
   ]
  },
  {
   "cell_type": "code",
   "execution_count": 4,
   "metadata": {},
   "outputs": [
    {
     "data": {
      "text/plain": [
       "'c:\\\\Users\\\\asus\\\\OneDrive\\\\Desktop\\\\Machine Learning project with Mlflow\\\\Machine-Learning-project-with-Mlflow'"
      ]
     },
     "execution_count": 4,
     "metadata": {},
     "output_type": "execute_result"
    }
   ],
   "source": [
    "%pwd"
   ]
  },
  {
   "cell_type": "code",
   "execution_count": 5,
   "metadata": {},
   "outputs": [],
   "source": [
    "from dataclasses import dataclass\n",
    "from pathlib import Path\n",
    "\n",
    "@dataclass(frozen=True)\n",
    "class DataIngestionConfig:\n",
    "    root_dir: Path\n",
    "    source_URL: str\n",
    "    local_data_file: Path\n",
    "    unzip_dir: Path"
   ]
  },
  {
   "cell_type": "code",
   "execution_count": 8,
   "metadata": {},
   "outputs": [
    {
     "name": "stdout",
     "output_type": "stream",
     "text": [
      "C:\\Users\\asus\n"
     ]
    }
   ],
   "source": [
    "cd \n"
   ]
  },
  {
   "cell_type": "code",
   "execution_count": 16,
   "metadata": {},
   "outputs": [
    {
     "data": {
      "text/plain": [
       "'C:\\\\Users\\\\asus\\\\OneDrive'"
      ]
     },
     "execution_count": 16,
     "metadata": {},
     "output_type": "execute_result"
    }
   ],
   "source": [
    "%pwd"
   ]
  },
  {
   "cell_type": "code",
   "execution_count": null,
   "metadata": {},
   "outputs": [
    {
     "name": "stdout",
     "output_type": "stream",
     "text": [
      " Volume in drive C is OS\n",
      " Volume Serial Number is 2023-7923\n",
      "\n",
      " Directory of C:\\Users\\asus\n",
      "\n",
      "16-05-2024  20:22    <DIR>          .\n",
      "11-07-2023  09:26    <DIR>          ..\n",
      "21-06-2024  22:33             5,564 .bash_history\n",
      "29-11-2023  09:12    <DIR>          .conda\n",
      "27-11-2023  17:01                25 .condarc\n",
      "23-08-2023  20:08    <DIR>          .continuum\n",
      "26-08-2023  16:41               108 .gitconfig\n",
      "08-08-2023  10:04    <DIR>          .idlerc\n",
      "27-10-2023  18:54    <DIR>          .ipynb_checkpoints\n",
      "02-08-2023  20:15    <DIR>          .ipython\n",
      "02-08-2023  20:59    <DIR>          .jupyter\n",
      "24-03-2024  20:24                20 .lesshst\n",
      "11-11-2023  09:53    <DIR>          .matplotlib\n",
      "23-08-2023  18:37    <DIR>          .streamlit\n",
      "08-08-2023  09:52             4,081 .viminfo\n",
      "11-07-2023  10:00    <DIR>          .vscode\n",
      "23-08-2023  20:08    <DIR>          anaconda3\n",
      "11-07-2023  08:31    <DIR>          Contacts\n",
      "12-03-2024  22:53    <DIR>          Desktop\n",
      "12-01-2024  22:20    <DIR>          Documents\n",
      "20-06-2024  09:21    <DIR>          Downloads\n",
      "11-07-2023  08:31    <DIR>          Favorites\n",
      "11-07-2023  08:31    <DIR>          Links\n",
      "27-10-2023  18:55    <DIR>          Machine-learning-projects\n",
      "05-01-2024  20:02    <DIR>          Microsoft\n",
      "11-07-2023  08:31    <DIR>          Music\n",
      "22-06-2024  08:11    <DIR>          OneDrive\n",
      "20-10-2023  13:42               279 practice.html\n",
      "01-08-2023  12:43    <DIR>          Project\n",
      "14-07-2023  08:57    <DIR>          PycharmProjects\n",
      "11-07-2023  11:04    <DIR>          Saved Games\n",
      "11-07-2023  09:26    <DIR>          Searches\n",
      "11-07-2023  20:40    <DIR>          Videos\n",
      "               6 File(s)         10,077 bytes\n",
      "              27 Dir(s)  330,068,144,128 bytes free\n"
     ]
    }
   ],
   "source": [
    "ls"
   ]
  },
  {
   "cell_type": "code",
   "execution_count": 17,
   "metadata": {},
   "outputs": [
    {
     "name": "stdout",
     "output_type": "stream",
     "text": [
      "[WinError 2] The system cannot find the file specified: 'OneDrive'\n",
      "C:\\Users\\asus\\OneDrive\n"
     ]
    }
   ],
   "source": [
    "cd OneDrive"
   ]
  },
  {
   "cell_type": "code",
   "execution_count": 18,
   "metadata": {},
   "outputs": [
    {
     "name": "stdout",
     "output_type": "stream",
     "text": [
      "C:\\Users\\asus\\OneDrive\\Desktop\n"
     ]
    }
   ],
   "source": [
    "cd Desktop"
   ]
  },
  {
   "cell_type": "code",
   "execution_count": null,
   "metadata": {},
   "outputs": [
    {
     "name": "stdout",
     "output_type": "stream",
     "text": [
      " Volume in drive C is OS\n",
      " Volume Serial Number is 2023-7923\n",
      "\n",
      " Directory of C:\\Users\\asus\\OneDrive\\Desktop\n",
      "\n",
      "19-06-2024  19:46    <DIR>          .\n",
      "22-06-2024  08:11    <DIR>          ..\n",
      "09-04-2024  19:19             2,208 Canva.lnk\n",
      "24-12-2023  19:25         1,861,075 cds pyqs.pdf\n",
      "24-12-2023  19:10           101,163 CDS-Syllabus 2024.pdf\n",
      "11-05-2024  12:25        16,218,453 COA T3 slides.pdf\n",
      "15-02-2024  16:11    <DIR>          diagrams minor 2\n",
      "19-01-2024  19:17        17,709,514 DSA NOTES .pdf\n",
      "02-05-2024  01:29           651,686 FINAL MINOR.docx\n",
      "30-05-2024  09:54    <DIR>          github\n",
      "09-04-2024  23:57            11,323 heart.csv\n",
      "25-07-2023  20:19    <DIR>          HTML Tutorial\n",
      "08-05-2024  11:42            14,020 LOR.docx\n",
      "19-06-2024  19:51    <DIR>          Machine Learning project with Mlflow\n",
      "31-10-2023  18:14    <DIR>          Machine_learning_project\n",
      "11-07-2023  08:32             2,350 Microsoft Edge.lnk\n",
      "28-11-2023  10:33    <DIR>          minor 1\n",
      "09-04-2024  17:47             2,346 MongoDBCompass.lnk\n",
      "28-05-2024  11:21           466,006 offer letter.pdf\n",
      "07-05-2024  23:08    <DIR>          Password generator\n",
      "02-05-2024  15:25           902,742 project 121.pdf\n",
      "01-03-2024  21:53            41,309 resume feb.pdf\n",
      "29-11-2023  13:24           250,058 shuru ke pages.pdf\n",
      "11-07-2023  10:26             1,847 Spotify.lnk\n",
      "02-08-2023  19:34        40,044,293 tmdb_5000_credits.csv\n",
      "02-08-2023  19:35         5,698,602 tmdb_5000_movies.csv\n",
      "25-07-2023  20:05             1,399 Visual Studio Code.lnk\n",
      "              18 File(s)     83,980,394 bytes\n",
      "               9 Dir(s)  330,068,140,032 bytes free\n"
     ]
    }
   ],
   "source": [
    "ls\n"
   ]
  },
  {
   "cell_type": "code",
   "execution_count": 19,
   "metadata": {},
   "outputs": [
    {
     "data": {
      "text/plain": [
       "'C:\\\\Users\\\\asus\\\\OneDrive\\\\Desktop'"
      ]
     },
     "execution_count": 19,
     "metadata": {},
     "output_type": "execute_result"
    }
   ],
   "source": [
    "%pwd"
   ]
  },
  {
   "cell_type": "code",
   "execution_count": null,
   "metadata": {},
   "outputs": [
    {
     "name": "stdout",
     "output_type": "stream",
     "text": [
      " Volume in drive C is OS\n",
      " Volume Serial Number is 2023-7923\n",
      "\n",
      " Directory of C:\\Users\\asus\\OneDrive\\Desktop\n",
      "\n",
      "19-06-2024  19:46    <DIR>          .\n",
      "22-06-2024  08:11    <DIR>          ..\n",
      "09-04-2024  19:19             2,208 Canva.lnk\n",
      "24-12-2023  19:25         1,861,075 cds pyqs.pdf\n",
      "24-12-2023  19:10           101,163 CDS-Syllabus 2024.pdf\n",
      "11-05-2024  12:25        16,218,453 COA T3 slides.pdf\n",
      "15-02-2024  16:11    <DIR>          diagrams minor 2\n",
      "19-01-2024  19:17        17,709,514 DSA NOTES .pdf\n",
      "02-05-2024  01:29           651,686 FINAL MINOR.docx\n",
      "30-05-2024  09:54    <DIR>          github\n",
      "09-04-2024  23:57            11,323 heart.csv\n",
      "25-07-2023  20:19    <DIR>          HTML Tutorial\n",
      "08-05-2024  11:42            14,020 LOR.docx\n",
      "19-06-2024  19:51    <DIR>          Machine Learning project with Mlflow\n",
      "31-10-2023  18:14    <DIR>          Machine_learning_project\n",
      "11-07-2023  08:32             2,350 Microsoft Edge.lnk\n",
      "28-11-2023  10:33    <DIR>          minor 1\n",
      "09-04-2024  17:47             2,346 MongoDBCompass.lnk\n",
      "28-05-2024  11:21           466,006 offer letter.pdf\n",
      "07-05-2024  23:08    <DIR>          Password generator\n",
      "02-05-2024  15:25           902,742 project 121.pdf\n",
      "01-03-2024  21:53            41,309 resume feb.pdf\n",
      "29-11-2023  13:24           250,058 shuru ke pages.pdf\n",
      "11-07-2023  10:26             1,847 Spotify.lnk\n",
      "02-08-2023  19:34        40,044,293 tmdb_5000_credits.csv\n",
      "02-08-2023  19:35         5,698,602 tmdb_5000_movies.csv\n",
      "25-07-2023  20:05             1,399 Visual Studio Code.lnk\n",
      "              18 File(s)     83,980,394 bytes\n",
      "               9 Dir(s)  330,068,140,032 bytes free\n"
     ]
    }
   ],
   "source": [
    "ls"
   ]
  },
  {
   "cell_type": "code",
   "execution_count": 11,
   "metadata": {},
   "outputs": [
    {
     "name": "stdout",
     "output_type": "stream",
     "text": [
      "[WinError 2] The system cannot find the file specified: 'Machine-Learning-project-with-Mlflow'\n",
      "C:\\Users\\asus\\OneDrive\\Desktop\n"
     ]
    }
   ],
   "source": [
    "cd Machine-Learning-project-with-Mlflow"
   ]
  },
  {
   "cell_type": "code",
   "execution_count": null,
   "metadata": {},
   "outputs": [
    {
     "data": {
      "text/plain": [
       "'C:\\\\Users\\\\asus\\\\OneDrive\\\\Desktop'"
      ]
     },
     "execution_count": 58,
     "metadata": {},
     "output_type": "execute_result"
    }
   ],
   "source": [
    "%pwd"
   ]
  },
  {
   "cell_type": "code",
   "execution_count": 12,
   "metadata": {},
   "outputs": [
    {
     "name": "stdout",
     "output_type": "stream",
     "text": [
      " Volume in drive C is OS\n",
      " Volume Serial Number is 2023-7923\n",
      "\n",
      " Directory of C:\\Users\\asus\\OneDrive\\Desktop\n",
      "\n",
      "22-06-2024  10:33    <DIR>          .\n",
      "23-06-2024  08:56    <DIR>          ..\n",
      "22-06-2024  10:33           148,383 Anushka Dixit_Artificial Intelligence & Machine Learning_OFFER_LETTER.pdf\n",
      "09-04-2024  19:19             2,208 Canva.lnk\n",
      "24-12-2023  19:25         1,861,075 cds pyqs.pdf\n",
      "24-12-2023  19:10           101,163 CDS-Syllabus 2024.pdf\n",
      "11-05-2024  12:25        16,218,453 COA T3 slides.pdf\n",
      "15-02-2024  16:11    <DIR>          diagrams minor 2\n",
      "19-01-2024  19:17        17,709,514 DSA NOTES .pdf\n",
      "02-05-2024  01:29           651,686 FINAL MINOR.docx\n",
      "30-05-2024  09:54    <DIR>          github\n",
      "09-04-2024  23:57            11,323 heart.csv\n",
      "25-07-2023  20:19    <DIR>          HTML Tutorial\n",
      "08-05-2024  11:42            14,020 LOR.docx\n",
      "19-06-2024  19:51    <DIR>          Machine Learning project with Mlflow\n",
      "31-10-2023  18:14    <DIR>          Machine_learning_project\n",
      "11-07-2023  08:32             2,350 Microsoft Edge.lnk\n",
      "28-11-2023  10:33    <DIR>          minor 1\n",
      "09-04-2024  17:47             2,346 MongoDBCompass.lnk\n",
      "28-05-2024  11:21           466,006 offer letter.pdf\n",
      "07-05-2024  23:08    <DIR>          Password generator\n",
      "02-05-2024  15:25           902,742 project 121.pdf\n",
      "01-03-2024  21:53            41,309 resume feb.pdf\n",
      "29-11-2023  13:24           250,058 shuru ke pages.pdf\n",
      "11-07-2023  10:26             1,847 Spotify.lnk\n",
      "02-08-2023  19:34        40,044,293 tmdb_5000_credits.csv\n",
      "02-08-2023  19:35         5,698,602 tmdb_5000_movies.csv\n",
      "25-07-2023  20:05             1,399 Visual Studio Code.lnk\n",
      "              19 File(s)     84,128,777 bytes\n",
      "               9 Dir(s)  330,812,235,776 bytes free\n"
     ]
    }
   ],
   "source": [
    "ls"
   ]
  },
  {
   "cell_type": "code",
   "execution_count": 27,
   "metadata": {},
   "outputs": [
    {
     "data": {
      "text/plain": [
       "'C:\\\\Users\\\\asus\\\\OneDrive'"
      ]
     },
     "execution_count": 27,
     "metadata": {},
     "output_type": "execute_result"
    }
   ],
   "source": [
    "%pwd"
   ]
  },
  {
   "cell_type": "code",
   "execution_count": 28,
   "metadata": {},
   "outputs": [
    {
     "name": "stdout",
     "output_type": "stream",
     "text": [
      "C:\\Users\\asus\\OneDrive\\Desktop\n"
     ]
    }
   ],
   "source": [
    "cd Desktop"
   ]
  },
  {
   "cell_type": "code",
   "execution_count": 29,
   "metadata": {},
   "outputs": [
    {
     "data": {
      "text/plain": [
       "'C:\\\\Users\\\\asus\\\\OneDrive\\\\Desktop'"
      ]
     },
     "execution_count": 29,
     "metadata": {},
     "output_type": "execute_result"
    }
   ],
   "source": [
    "%pwd"
   ]
  },
  {
   "cell_type": "code",
   "execution_count": 31,
   "metadata": {},
   "outputs": [
    {
     "name": "stdout",
     "output_type": "stream",
     "text": [
      "C:\\Users\\asus\\OneDrive\\Desktop\\Machine Learning project with Mlflow\n"
     ]
    }
   ],
   "source": [
    "cd \"Machine Learning project with Mlflow\""
   ]
  },
  {
   "cell_type": "code",
   "execution_count": 32,
   "metadata": {},
   "outputs": [
    {
     "name": "stdout",
     "output_type": "stream",
     "text": [
      "C:\\Users\\asus\\OneDrive\\Desktop\\Machine Learning project with Mlflow\\Machine-Learning-Project-with-MLflow\n"
     ]
    }
   ],
   "source": [
    "cd Machine-Learning-Project-with-MLflow"
   ]
  },
  {
   "cell_type": "code",
   "execution_count": 33,
   "metadata": {},
   "outputs": [
    {
     "data": {
      "text/plain": [
       "'C:\\\\Users\\\\asus\\\\OneDrive\\\\Desktop\\\\Machine Learning project with Mlflow\\\\Machine-Learning-Project-with-MLflow'"
      ]
     },
     "execution_count": 33,
     "metadata": {},
     "output_type": "execute_result"
    }
   ],
   "source": [
    "%pwd"
   ]
  },
  {
   "cell_type": "code",
   "execution_count": 34,
   "metadata": {},
   "outputs": [
    {
     "name": "stdout",
     "output_type": "stream",
     "text": [
      " Volume in drive C is OS\n",
      " Volume Serial Number is 2023-7923\n",
      "\n",
      " Directory of C:\\Users\\asus\\OneDrive\\Desktop\\Machine Learning project with Mlflow\\Machine-Learning-Project-with-MLflow\n",
      "\n",
      "21-06-2024  09:06    <DIR>          .\n",
      "19-06-2024  19:51    <DIR>          ..\n",
      "20-06-2024  09:35    <DIR>          .github\n",
      "19-06-2024  19:51             3,301 .gitignore\n",
      "20-06-2024  09:35                 0 app.py\n",
      "20-06-2024  09:35    <DIR>          config\n",
      "20-06-2024  09:35                 0 Dockerfile\n",
      "19-06-2024  19:51             1,091 LICENSE\n",
      "20-06-2024  10:02    <DIR>          logs\n",
      "20-06-2024  10:02                78 main.py\n",
      "21-06-2024  09:15    <DIR>          mlproj\n",
      "20-06-2024  09:35                 0 params.yaml\n",
      "21-06-2024  09:30               301 README.md\n",
      "20-06-2024  09:43               160 requirements.txt\n",
      "21-06-2024  09:31    <DIR>          research\n",
      "20-06-2024  09:35                 0 schema.yaml\n",
      "20-06-2024  09:49               822 setup.py\n",
      "22-06-2024  08:42    <DIR>          src\n",
      "20-06-2024  09:34             1,480 template.py\n",
      "20-06-2024  09:35    <DIR>          templates\n",
      "20-06-2024  09:35                 0 test.py\n",
      "              12 File(s)          7,233 bytes\n",
      "               9 Dir(s)  330,790,535,168 bytes free\n"
     ]
    }
   ],
   "source": [
    "ls"
   ]
  },
  {
   "cell_type": "code",
   "execution_count": 35,
   "metadata": {},
   "outputs": [
    {
     "name": "stdout",
     "output_type": "stream",
     "text": [
      "C:\\Users\\asus\\OneDrive\\Desktop\\Machine Learning project with Mlflow\\Machine-Learning-Project-with-MLflow\\src\n"
     ]
    }
   ],
   "source": [
    "cd src"
   ]
  },
  {
   "cell_type": "code",
   "execution_count": 36,
   "metadata": {},
   "outputs": [
    {
     "name": "stdout",
     "output_type": "stream",
     "text": [
      " Volume in drive C is OS\n",
      " Volume Serial Number is 2023-7923\n",
      "\n",
      " Directory of C:\\Users\\asus\\OneDrive\\Desktop\\Machine Learning project with Mlflow\\Machine-Learning-Project-with-MLflow\\src\n",
      "\n",
      "22-06-2024  08:42    <DIR>          .\n",
      "21-06-2024  09:06    <DIR>          ..\n",
      "22-06-2024  08:42    <DIR>          logs\n",
      "20-06-2024  10:02    <DIR>          mlProject\n",
      "21-06-2024  09:09    <DIR>          mlProject.egg-info\n",
      "               0 File(s)              0 bytes\n",
      "               5 Dir(s)  330,789,806,080 bytes free\n"
     ]
    }
   ],
   "source": [
    "ls"
   ]
  },
  {
   "cell_type": "code",
   "execution_count": 37,
   "metadata": {},
   "outputs": [
    {
     "name": "stdout",
     "output_type": "stream",
     "text": [
      "C:\\Users\\asus\\OneDrive\\Desktop\\Machine Learning project with Mlflow\\Machine-Learning-Project-with-MLflow\\src\\mlProject\n"
     ]
    }
   ],
   "source": [
    "cd mlProject"
   ]
  },
  {
   "cell_type": "code",
   "execution_count": 44,
   "metadata": {},
   "outputs": [],
   "source": [
    "from mlProject.constants import *\n",
    "from mlProject.utils.common import read_yaml, create_directories"
   ]
  },
  {
   "cell_type": "code",
   "execution_count": 51,
   "metadata": {},
   "outputs": [
    {
     "name": "stdout",
     "output_type": "stream",
     "text": [
      "C:\\Users\\asus\\OneDrive\\Desktop\\Machine Learning project with Mlflow\\Machine-Learning-Project-with-MLflow\n"
     ]
    }
   ],
   "source": [
    "cd .."
   ]
  },
  {
   "cell_type": "code",
   "execution_count": 50,
   "metadata": {},
   "outputs": [],
   "source": [
    "class ConfigurationManager:\n",
    "    def __init__(\n",
    "        self,\n",
    "        config_filepath = CONFIG_FILE_PATH,\n",
    "        params_filepath = PARAMS_FILE_PATH,\n",
    "        schema_filepath = SCHEMA_FILE_PATH):\n",
    "        \n",
    "        self.config = read_yaml(config_filepath)\n",
    "        self.params = read_yaml(params_filepath)\n",
    "        self.schema = read_yaml(schema_filepath)\n",
    "\n",
    "        create_directories([self.config.artifacts_root])\n",
    "\n",
    "\n",
    "    def get_data_ingestion_config(self) -> DataIngestionConfig:\n",
    "        config = self.config.data_ingestion\n",
    "\n",
    "        create_directories([config.root_dir])\n",
    "\n",
    "        data_ingestion_config = DataIngestionConfig(\n",
    "            root_dir=config.root_dir,\n",
    "            source_URL=config.source_URL,\n",
    "            local_data_file=config.local_data_file,\n",
    "            unzip_dir=config.unzip_dir\n",
    "        )\n",
    "          \n",
    "        return data_ingestion_config"
   ]
  },
  {
   "cell_type": "code",
   "execution_count": 46,
   "metadata": {},
   "outputs": [],
   "source": [
    "import os\n",
    "import urllib.request as request\n",
    "import zipfile\n",
    "from mlProject import logger\n",
    "from mlProject.utils.common import get_size"
   ]
  },
  {
   "cell_type": "code",
   "execution_count": 47,
   "metadata": {},
   "outputs": [],
   "source": [
    "class DataIngestion:\n",
    "    def __init__(self, config: DataIngestionConfig):\n",
    "        self.config = config\n",
    "\n",
    "\n",
    "    def download_file(self):\n",
    "        if not os.path.exists(self.config.local_data_file):\n",
    "            filename, headers = request.urlretrieve(\n",
    "                url = self.config.source_URL,\n",
    "                filename = self.config.local_data_file\n",
    "            )\n",
    " \n",
    "            logger.info(f\"{filename} download! with following info: \\n{headers}\")\n",
    "        else:\n",
    "            logger.info(f\"File already exists of size:{get_size(Path(self.config.local_data_file))}\")\n",
    "\n",
    "    \n",
    "    def extract_zip_file(self):\n",
    "        unzip_path = self.config.unzip_dir\n",
    "        os.makedirs(unzip_path, exist_ok=True)\n",
    "        with zipfile.ZipFile(self.config.local_data_file, 'r') as zip_ref:\n",
    "            zip_ref.extractall(unzip_path)"
   ]
  },
  {
   "cell_type": "code",
   "execution_count": 53,
   "metadata": {},
   "outputs": [
    {
     "name": "stdout",
     "output_type": "stream",
     "text": [
      "[2024-06-23 09:31:00,108: INFO: common: yaml file: config\\config.yaml loaded successfully]\n",
      "[2024-06-23 09:31:00,116: INFO: common: yaml file: params.yaml loaded successfully]\n",
      "[2024-06-23 09:31:00,120: INFO: common: yaml file: schema.yaml loaded successfully]\n",
      "[2024-06-23 09:31:00,121: INFO: common: created directory at: artifacts]\n",
      "[2024-06-23 09:31:00,124: INFO: common: created directory at: artifacts/data_ingestion]\n",
      "[2024-06-23 09:31:02,119: INFO: 700112557: artifacts/data_ingestion/data.zip download! with following info: \n",
      "Connection: close\n",
      "Content-Length: 23329\n",
      "Cache-Control: max-age=300\n",
      "Content-Security-Policy: default-src 'none'; style-src 'unsafe-inline'; sandbox\n",
      "Content-Type: application/zip\n",
      "ETag: \"c69888a4ae59bc5a893392785a938ccd4937981c06ba8a9d6a21aa52b4ab5b6e\"\n",
      "Strict-Transport-Security: max-age=31536000\n",
      "X-Content-Type-Options: nosniff\n",
      "X-Frame-Options: deny\n",
      "X-XSS-Protection: 1; mode=block\n",
      "X-GitHub-Request-Id: 3DF0:29A2FE:19820B:1F64A1:66779DFC\n",
      "Accept-Ranges: bytes\n",
      "Date: Sun, 23 Jun 2024 04:01:01 GMT\n",
      "Via: 1.1 varnish\n",
      "X-Served-By: cache-bom4724-BOM\n",
      "X-Cache: MISS\n",
      "X-Cache-Hits: 0\n",
      "X-Timer: S1719115261.727447,VS0,VE434\n",
      "Vary: Authorization,Accept-Encoding,Origin\n",
      "Access-Control-Allow-Origin: *\n",
      "Cross-Origin-Resource-Policy: cross-origin\n",
      "X-Fastly-Request-ID: 4c8225669845cfb645a1bf30c81df43d82303994\n",
      "Expires: Sun, 23 Jun 2024 04:06:01 GMT\n",
      "Source-Age: 0\n",
      "\n",
      "]\n"
     ]
    }
   ],
   "source": [
    "try:\n",
    "    config = ConfigurationManager()\n",
    "    data_ingestion_config = config.get_data_ingestion_config()\n",
    "    data_ingestion = DataIngestion(config=data_ingestion_config)\n",
    "    data_ingestion.download_file()\n",
    "    data_ingestion.extract_zip_file()\n",
    "except Exception as e:\n",
    "    raise e"
   ]
  },
  {
   "cell_type": "code",
   "execution_count": null,
   "metadata": {},
   "outputs": [],
   "source": []
  }
 ],
 "metadata": {
  "kernelspec": {
   "display_name": "mlproj",
   "language": "python",
   "name": "python3"
  },
  "language_info": {
   "codemirror_mode": {
    "name": "ipython",
    "version": 3
   },
   "file_extension": ".py",
   "mimetype": "text/x-python",
   "name": "python",
   "nbconvert_exporter": "python",
   "pygments_lexer": "ipython3",
   "version": "3.12.4"
  }
 },
 "nbformat": 4,
 "nbformat_minor": 2
}
